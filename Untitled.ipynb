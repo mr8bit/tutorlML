{
 "cells": [
  {
   "cell_type": "code",
   "execution_count": 10,
   "id": "ed0ab9aa",
   "metadata": {},
   "outputs": [],
   "source": [
    "a = 5"
   ]
  },
  {
   "cell_type": "code",
   "execution_count": 14,
   "id": "7e038cdf",
   "metadata": {},
   "outputs": [
    {
     "name": "stdout",
     "output_type": "stream",
     "text": [
      "a>0\n",
      "a=0\n"
     ]
    }
   ],
   "source": [
    "if a > 0:\n",
    "    print(\"a>0\")\n",
    "    if a == 5:\n",
    "        print(\"a=0\")\n",
    "else:\n",
    "    print(\"a<0\")"
   ]
  },
  {
   "cell_type": "code",
   "execution_count": 15,
   "id": "a6e550cd",
   "metadata": {},
   "outputs": [
    {
     "name": "stdout",
     "output_type": "stream",
     "text": [
      "a>0\n"
     ]
    }
   ],
   "source": [
    "if a > 0: print(\"a>0\")"
   ]
  },
  {
   "cell_type": "code",
   "execution_count": 16,
   "id": "68d23c30",
   "metadata": {},
   "outputs": [],
   "source": [
    "a = [1,3,12,3]"
   ]
  },
  {
   "cell_type": "code",
   "execution_count": 17,
   "id": "34f5f9fe",
   "metadata": {},
   "outputs": [],
   "source": [
    "b = (1,3,12,3)"
   ]
  },
  {
   "cell_type": "code",
   "execution_count": 19,
   "id": "1167b9c9",
   "metadata": {},
   "outputs": [
    {
     "data": {
      "text/plain": [
       "(1, 1)"
      ]
     },
     "execution_count": 19,
     "metadata": {},
     "output_type": "execute_result"
    }
   ],
   "source": [
    "a[0], b[0]"
   ]
  },
  {
   "cell_type": "code",
   "execution_count": 20,
   "id": "a7c560d6",
   "metadata": {},
   "outputs": [],
   "source": [
    "a[0]=2"
   ]
  },
  {
   "cell_type": "code",
   "execution_count": 26,
   "id": "3d34577a",
   "metadata": {},
   "outputs": [
    {
     "data": {
      "text/plain": [
       "[2, 3, 12, 3]"
      ]
     },
     "execution_count": 26,
     "metadata": {},
     "output_type": "execute_result"
    }
   ],
   "source": [
    "a"
   ]
  },
  {
   "cell_type": "code",
   "execution_count": 29,
   "id": "6de72ee4",
   "metadata": {},
   "outputs": [
    {
     "data": {
      "text/plain": [
       "3"
      ]
     },
     "execution_count": 29,
     "metadata": {},
     "output_type": "execute_result"
    }
   ],
   "source": [
    "len(list(set(a)))"
   ]
  },
  {
   "cell_type": "code",
   "execution_count": 22,
   "id": "74b6f7f5",
   "metadata": {},
   "outputs": [
    {
     "ename": "TypeError",
     "evalue": "'tuple' object does not support item assignment",
     "output_type": "error",
     "traceback": [
      "\u001b[1;31m---------------------------------------------------------------------------\u001b[0m",
      "\u001b[1;31mTypeError\u001b[0m                                 Traceback (most recent call last)",
      "\u001b[1;32m~\\AppData\\Local\\Temp/ipykernel_9860/1149919408.py\u001b[0m in \u001b[0;36m<module>\u001b[1;34m\u001b[0m\n\u001b[1;32m----> 1\u001b[1;33m \u001b[0mb\u001b[0m\u001b[1;33m[\u001b[0m\u001b[1;36m0\u001b[0m\u001b[1;33m]\u001b[0m\u001b[1;33m=\u001b[0m\u001b[1;36m2\u001b[0m\u001b[1;33m\u001b[0m\u001b[1;33m\u001b[0m\u001b[0m\n\u001b[0m",
      "\u001b[1;31mTypeError\u001b[0m: 'tuple' object does not support item assignment"
     ]
    }
   ],
   "source": [
    "b[0]=2"
   ]
  },
  {
   "cell_type": "code",
   "execution_count": 24,
   "id": "19325d22",
   "metadata": {},
   "outputs": [
    {
     "data": {
      "text/plain": [
       "[0, 1, 2, 3, 4, 5, 6, 7, 8, 9]"
      ]
     },
     "execution_count": 24,
     "metadata": {},
     "output_type": "execute_result"
    }
   ],
   "source": [
    "list(range(0,10))"
   ]
  },
  {
   "cell_type": "code",
   "execution_count": 30,
   "id": "7dba8e61",
   "metadata": {},
   "outputs": [],
   "source": [
    "dictas = {}"
   ]
  },
  {
   "cell_type": "code",
   "execution_count": 31,
   "id": "55105362",
   "metadata": {},
   "outputs": [],
   "source": [
    "dictas['tmp.wisa.a'] = {\"asdad\":0}"
   ]
  },
  {
   "cell_type": "code",
   "execution_count": 39,
   "id": "04754493",
   "metadata": {},
   "outputs": [],
   "source": [
    "dictas = [{\n",
    " \"id\":0,\"name\":\"asdsad\", \"timestamp\":161232132\n",
    "},{\n",
    " \"id\":1,\"name\":\"asdsad\", \"timestamp\":161232132\n",
    "}]"
   ]
  },
  {
   "cell_type": "code",
   "execution_count": 40,
   "id": "1026e31e",
   "metadata": {},
   "outputs": [
    {
     "name": "stdout",
     "output_type": "stream",
     "text": [
      "True\n",
      "False\n"
     ]
    }
   ],
   "source": [
    "for item in dictas:\n",
    "    print(item['id']==0)"
   ]
  },
  {
   "cell_type": "code",
   "execution_count": 41,
   "id": "36fb835c",
   "metadata": {},
   "outputs": [],
   "source": [
    "a = 2^2"
   ]
  },
  {
   "cell_type": "code",
   "execution_count": 43,
   "id": "0ad594f9",
   "metadata": {},
   "outputs": [],
   "source": [
    "a = 2**2"
   ]
  },
  {
   "cell_type": "code",
   "execution_count": 44,
   "id": "e80b288f",
   "metadata": {},
   "outputs": [
    {
     "data": {
      "text/plain": [
       "4"
      ]
     },
     "execution_count": 44,
     "metadata": {},
     "output_type": "execute_result"
    }
   ],
   "source": [
    "a"
   ]
  },
  {
   "cell_type": "code",
   "execution_count": null,
   "id": "c7eb4072",
   "metadata": {},
   "outputs": [],
   "source": [
    "if a>3 or a<5:\n",
    "    print(a)"
   ]
  }
 ],
 "metadata": {
  "kernelspec": {
   "display_name": "Python 3 (ipykernel)",
   "language": "python",
   "name": "python3"
  },
  "language_info": {
   "codemirror_mode": {
    "name": "ipython",
    "version": 3
   },
   "file_extension": ".py",
   "mimetype": "text/x-python",
   "name": "python",
   "nbconvert_exporter": "python",
   "pygments_lexer": "ipython3",
   "version": "3.8.12"
  }
 },
 "nbformat": 4,
 "nbformat_minor": 5
}
